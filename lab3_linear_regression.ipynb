{
  "nbformat": 4,
  "nbformat_minor": 0,
  "metadata": {
    "colab": {
      "name": "lab3_linear_regression.ipynb",
      "provenance": [],
      "collapsed_sections": [],
      "include_colab_link": true
    },
    "kernelspec": {
      "name": "python3",
      "display_name": "Python 3"
    }
  },
  "cells": [
    {
      "cell_type": "markdown",
      "metadata": {
        "id": "view-in-github",
        "colab_type": "text"
      },
      "source": [
        "<a href=\"https://colab.research.google.com/github/Advokat1/Python_learning/blob/master/lab3_linear_regression.ipynb\" target=\"_parent\"><img src=\"https://colab.research.google.com/assets/colab-badge.svg\" alt=\"Open In Colab\"/></a>"
      ]
    },
    {
      "cell_type": "markdown",
      "metadata": {
        "id": "Rg8wHgRyRukt",
        "colab_type": "text"
      },
      "source": [
        "##Лабораторная работа №3. Линейные модели\n"
      ]
    },
    {
      "cell_type": "markdown",
      "metadata": {
        "id": "scznXTVfXPaS",
        "colab_type": "text"
      },
      "source": [
        "Лабораторная работа состоит из трёх частей, в каждой из которых вам нужно построить регерссионную модель и исследовать её свойства."
      ]
    },
    {
      "cell_type": "code",
      "metadata": {
        "id": "gaLXEC3ESQfi",
        "colab_type": "code",
        "colab": {}
      },
      "source": [
        "import numpy as np\n",
        "import pandas as pd\n",
        "import matplotlib.pyplot as plt\n",
        "import statsmodels.api as sm\n",
        "from scipy import stats\n",
        "from sklearn.preprocessing import PolynomialFeatures\n",
        "%matplotlib inline\n",
        "np.random.seed(7)"
      ],
      "execution_count": 0,
      "outputs": []
    },
    {
      "cell_type": "markdown",
      "metadata": {
        "id": "gxvjX5oSR9FU",
        "colab_type": "text"
      },
      "source": [
        "## 1. Парная регрессия"
      ]
    },
    {
      "cell_type": "markdown",
      "metadata": {
        "id": "mdKmYoSsX8C9",
        "colab_type": "text"
      },
      "source": [
        "В первой части вам нужно при помощи библиотеки NumPy сгенерировать данные и построить по ним уравнение парной линейной регерессии. Для генерации данных вам нужно определить значения параметров регрессионной модели $k$ и $b$, а также размер выбоки $n$. Устанавливаемые вами значения $k$ и $b$ можно считать «истинными» значениями генеральной совокупности."
      ]
    },
    {
      "cell_type": "code",
      "metadata": {
        "id": "DmPimhFMyxFq",
        "colab_type": "code",
        "colab": {}
      },
      "source": [
        "k = # your code here\n",
        "b = # your code here\n",
        "n = # your code here"
      ],
      "execution_count": 0,
      "outputs": []
    },
    {
      "cell_type": "markdown",
      "metadata": {
        "id": "dZsvLzH5YxbF",
        "colab_type": "text"
      },
      "source": [
        "Теперь можно сгенерировать значения фактора $x$, воспользовавшись функцией `np.random.normal`, а затем вычислить значения целевой переменной $y$ как $y = kx + b + \\epsilon$, где $\\epsilon$ – случайное отклонение, для генерации которого также можно воспользоваться функцией `np.random.normal`."
      ]
    },
    {
      "cell_type": "code",
      "metadata": {
        "id": "JcO6OJOjZjvA",
        "colab_type": "code",
        "colab": {}
      },
      "source": [
        "X = # your code here\n",
        "y = # your code here"
      ],
      "execution_count": 0,
      "outputs": []
    },
    {
      "cell_type": "markdown",
      "metadata": {
        "id": "swAGEXsTSg3-",
        "colab_type": "text"
      },
      "source": [
        "Постройте диаграмму рассеяния данных (поле корреляции). Для этого можно воспользоваться функцией [scatter](https://matplotlib.org/3.2.1/api/_as_gen/matplotlib.pyplot.scatter.html) библиотеки matplotlib."
      ]
    },
    {
      "cell_type": "code",
      "metadata": {
        "id": "x60lHxXuSrZl",
        "colab_type": "code",
        "colab": {}
      },
      "source": [
        "# your code here"
      ],
      "execution_count": 0,
      "outputs": []
    },
    {
      "cell_type": "markdown",
      "metadata": {
        "id": "MNMOC2-RSvsB",
        "colab_type": "text"
      },
      "source": [
        "Вычислите ковариацию. Не используйте встроенную функцию `np.cov`, вычислите по формуле выборочной ковариации."
      ]
    },
    {
      "cell_type": "code",
      "metadata": {
        "id": "HqM7GIdCTSSo",
        "colab_type": "code",
        "colab": {}
      },
      "source": [
        "cov = # your code here\n",
        "print(\"COV(X, Y) = {:.2f}\".format(cov))"
      ],
      "execution_count": 0,
      "outputs": []
    },
    {
      "cell_type": "markdown",
      "metadata": {
        "id": "Ulp7hOIzTXFG",
        "colab_type": "text"
      },
      "source": [
        "Вычислите коэффициент корреляции Пирсона $r_{xy}$. Не используйте встроенную функцию `np.corrcoef`. Вычислите по формуле, используя полученное на предыдущем шаге значение ковариации.\n",
        "\n",
        "*Подсказка: для вычисления стандартного отклонения можно воспользоваться функцией `np.std`, но будьте осторожны, обратите внимание на параметр `ddof`.*"
      ]
    },
    {
      "cell_type": "code",
      "metadata": {
        "id": "cPTveEXBTeef",
        "colab_type": "code",
        "colab": {}
      },
      "source": [
        "corr = # your code here\n",
        "print(\"Corr(X, Y) = {:.2f}\".format(corr))"
      ],
      "execution_count": 0,
      "outputs": []
    },
    {
      "cell_type": "markdown",
      "metadata": {
        "id": "kwXQCLjOTgZ7",
        "colab_type": "text"
      },
      "source": [
        "Вычислите оценки параметров регрессии с использованием МНК. \n",
        "\n",
        "*Подсказка: Вычисление оценок параметров регресси сводится к решению системы $X^T X P = X^T Y$, где $P$ - вектор-столбец искомых параметров. Для решения системы можно использовать функции `np.linalg.inv` и `np.linalg.solve`.*"
      ]
    },
    {
      "cell_type": "code",
      "metadata": {
        "id": "XeQa1X0AT1Bw",
        "colab_type": "code",
        "colab": {}
      },
      "source": [
        "p = # your code here\n",
        "print(p)"
      ],
      "execution_count": 0,
      "outputs": []
    },
    {
      "cell_type": "markdown",
      "metadata": {
        "id": "6T-OyMjuT5zA",
        "colab_type": "text"
      },
      "source": [
        "Вычислите коэффициент детерминации $R^2$, воспользовавшись двумя формулами: как квадрат коэффициента корреляции и через отношение остаточной дисперсии к общей дисперсии целевой переменной."
      ]
    },
    {
      "cell_type": "code",
      "metadata": {
        "id": "tYGUY8l1ULeW",
        "colab_type": "code",
        "colab": {}
      },
      "source": [
        "# your code here"
      ],
      "execution_count": 0,
      "outputs": []
    },
    {
      "cell_type": "markdown",
      "metadata": {
        "id": "v-cyCf0uiBwf",
        "colab_type": "text"
      },
      "source": [
        "Постройте линию регрессии на поле корреляции. \n",
        "\n",
        "*Подсказка: для построения линии можно воспользоваться функцией [plot](https://matplotlib.org/3.2.1/api/_as_gen/matplotlib.pyplot.plot.html) библиотеки matplotlib.*"
      ]
    },
    {
      "cell_type": "code",
      "metadata": {
        "id": "ur_SNeX-U9Nh",
        "colab_type": "code",
        "colab": {}
      },
      "source": [
        "# your code here"
      ],
      "execution_count": 0,
      "outputs": []
    },
    {
      "cell_type": "markdown",
      "metadata": {
        "id": "Ql_PYaGFWK5E",
        "colab_type": "text"
      },
      "source": [
        "Вычислите [среднюю ошибку аппроксимации](http://univer-nn.ru/ekonometrika/koefficient-korrelyacii-srednyaya-oshibka-approksimacii-koefficient-elastichnosti/). Эта величина показывает, на сколько процентов в среднем расчётное значение целевой переменной отличается от фактического."
      ]
    },
    {
      "cell_type": "code",
      "metadata": {
        "id": "skdQfbYHWOn3",
        "colab_type": "code",
        "colab": {}
      },
      "source": [
        "a = # your code here\n",
        "print(\"Средняя ошибка аппроксимации: {:.2f} %\".format(a)"
      ],
      "execution_count": 0,
      "outputs": []
    },
    {
      "cell_type": "markdown",
      "metadata": {
        "id": "EYGuFUUHU_bg",
        "colab_type": "text"
      },
      "source": [
        "Оцените статистическую значимость уравнения регресии при помощи F-критерия. Для вычисления значения F-критерия вы можете воспользоваться формулой $F = \\frac{SSM}{SSE} \\frac{n-k-1}{k}$, где $n$ – количество наблюдений в выборке, $k$ – количество факторов, включенных в модель (для парной регрессии $k=1$). Используйте значение уровня значимости $\\alpha = 0,05$.\n",
        "\n",
        "*Подсказка: для вычисления $P(X > F)$ можно воспользоваться функцией [`scipy.stats.f.sf`](https://docs.scipy.org/doc/scipy/reference/generated/scipy.stats.f.html) библиоткеки scipy.*"
      ]
    },
    {
      "cell_type": "code",
      "metadata": {
        "id": "UGbCEe86VIPr",
        "colab_type": "code",
        "colab": {}
      },
      "source": [
        "# your code here"
      ],
      "execution_count": 0,
      "outputs": []
    },
    {
      "cell_type": "markdown",
      "metadata": {
        "id": "9vJKvhKlVMBs",
        "colab_type": "text"
      },
      "source": [
        "Вычислите стандартную ошибку коэффициента регресии и оцените его статистическую значимость при помощи t-критерия Стьюдента. Используйте значение уровня значимости $\\alpha = 0,05$.\n",
        "\n",
        "*Подсказка: стандартная ошибка $s_k$ коэффициента регрессии $k$ может быть найдена по формуле $s_k = \\frac{\\sigma_{ост}}{\\sigma_x \\sqrt{n - 1}}$ (формула 3.49 в [2]), а значение статистики $t = \\frac{k}{s_k}$. Для вычисления $P(X > |t|)$ можно воспользоваться функцией [`scipy.stats.t.sf`](https://docs.scipy.org/doc/scipy/reference/generated/scipy.stats.f.html) библиоткеки scipy. При использовании `np.std` обратите внимание на параметр `ddof`.*"
      ]
    },
    {
      "cell_type": "code",
      "metadata": {
        "id": "hXPGxL47Vcjd",
        "colab_type": "code",
        "colab": {}
      },
      "source": [
        "# your code here"
      ],
      "execution_count": 0,
      "outputs": []
    },
    {
      "cell_type": "markdown",
      "metadata": {
        "id": "IyUs5dNCBiHj",
        "colab_type": "text"
      },
      "source": [
        "Удостоверьтесь в правильности проведённых вычислений, проведя повторные рассчёты с помощью бибилиотеки [statsmodels](https://www.statsmodels.org/stable/index.html).\n",
        "\n",
        "\n",
        "В результате вы должны получить примерно следующее.\n",
        "```\n",
        "OLS Regression Results                            \n",
        "==============================================================================================\n",
        "Dep. Variable:                      y   R-squared:                       **0.855**\n",
        "Model:                            OLS   Adj. R-squared:                  0.854\n",
        "Method:                 Least Squares   F-statistic:                     **578.9**\n",
        "Date:                Wed, 08 Apr 2020   Prob (F-statistic):              **6.52e-43**\n",
        "Time:                        20:18:48   Log-Likelihood:                -180.77\n",
        "No. Observations:                 100   AIC:                             365.5\n",
        "Df Residuals:                      98   BIC:                             370.8\n",
        "Df Model:                           1                                         \n",
        "Covariance Type:            nonrobust                                         \n",
        "==============================================================================================\n",
        "                 coef          std err          t            P>|t|          [0.025      0.975]\n",
        "------------------------------------------------------------------------------\n",
        "x1             **0.7023**      **0.029**     **24.060**      **0.000**       0.644       0.760\n",
        "const          **5.0939**      0.316           16.106        0.000           4.466       5.722\n",
        "==============================================================================================\n",
        "Omnibus:                        5.958   Durbin-Watson:                   2.145\n",
        "Prob(Omnibus):                  0.051   Jarque-Bera (JB):                9.479\n",
        "Skew:                           0.057   Prob(JB):                      0.00874\n",
        "Kurtosis:                       4.504   Cond. No.                         23.1\n",
        "==============================================================================================\n",
        "```\n",
        "\n",
        "Значения, которые должны совпасть с вычисленными вами, помечены символами `**`."
      ]
    },
    {
      "cell_type": "code",
      "metadata": {
        "id": "gIKPXezIB6mw",
        "colab_type": "code",
        "colab": {}
      },
      "source": [
        "# your code here"
      ],
      "execution_count": 0,
      "outputs": []
    },
    {
      "cell_type": "markdown",
      "metadata": {
        "id": "Gs1RnZUHKaQK",
        "colab_type": "text"
      },
      "source": [
        "## 2. Множественная регрессия"
      ]
    },
    {
      "cell_type": "markdown",
      "metadata": {
        "id": "5VZVac5Wr8Eo",
        "colab_type": "text"
      },
      "source": [
        "Во второй части вам нужно построить модель множественной линейной регрессии, позволяющую предсказать процент бедного населения в регионе по набору социально-экономических показателей. Для построения модели предлагается использовать данные для 50 штатов США и округа Колумбия. В данных представлены следующие показатели.\n",
        "\n",
        "\n",
        "1.   Процент населения, проживающего в крупных городах (metro_res).\n",
        "2.   Процент населения европейского происхождения (white).\n",
        "3. Процент людей со средним образованием (hs_grad).\n",
        "4. Процент бедного населения (poverty).\n",
        "5. Процент семей, в которых женщина является домохозяйкой (female_house).\n",
        "\n"
      ]
    },
    {
      "cell_type": "code",
      "metadata": {
        "id": "5F7S4CbiCYwg",
        "colab_type": "code",
        "colab": {}
      },
      "source": [
        "df = pd.read_csv('http://d396qusza40orc.cloudfront.net/statistics/lec_resources/states.csv')\n",
        "df.shape"
      ],
      "execution_count": 0,
      "outputs": []
    },
    {
      "cell_type": "code",
      "metadata": {
        "id": "PDc-weTnGswc",
        "colab_type": "code",
        "outputId": "df0745ef-34c7-40ce-b61e-6f972c098bc6",
        "colab": {
          "base_uri": "https://localhost:8080/",
          "height": 202
        }
      },
      "source": [
        "df.head()"
      ],
      "execution_count": 0,
      "outputs": [
        {
          "output_type": "execute_result",
          "data": {
            "text/html": [
              "<div>\n",
              "<style scoped>\n",
              "    .dataframe tbody tr th:only-of-type {\n",
              "        vertical-align: middle;\n",
              "    }\n",
              "\n",
              "    .dataframe tbody tr th {\n",
              "        vertical-align: top;\n",
              "    }\n",
              "\n",
              "    .dataframe thead th {\n",
              "        text-align: right;\n",
              "    }\n",
              "</style>\n",
              "<table border=\"1\" class=\"dataframe\">\n",
              "  <thead>\n",
              "    <tr style=\"text-align: right;\">\n",
              "      <th></th>\n",
              "      <th>state</th>\n",
              "      <th>metro_res</th>\n",
              "      <th>white</th>\n",
              "      <th>hs_grad</th>\n",
              "      <th>poverty</th>\n",
              "      <th>female_house</th>\n",
              "    </tr>\n",
              "  </thead>\n",
              "  <tbody>\n",
              "    <tr>\n",
              "      <th>0</th>\n",
              "      <td>Alabama</td>\n",
              "      <td>55.4</td>\n",
              "      <td>71.3</td>\n",
              "      <td>79.9</td>\n",
              "      <td>14.6</td>\n",
              "      <td>14.2</td>\n",
              "    </tr>\n",
              "    <tr>\n",
              "      <th>1</th>\n",
              "      <td>Alaska</td>\n",
              "      <td>65.6</td>\n",
              "      <td>70.8</td>\n",
              "      <td>90.6</td>\n",
              "      <td>8.3</td>\n",
              "      <td>10.8</td>\n",
              "    </tr>\n",
              "    <tr>\n",
              "      <th>2</th>\n",
              "      <td>Arizona</td>\n",
              "      <td>88.2</td>\n",
              "      <td>87.7</td>\n",
              "      <td>83.8</td>\n",
              "      <td>13.3</td>\n",
              "      <td>11.1</td>\n",
              "    </tr>\n",
              "    <tr>\n",
              "      <th>3</th>\n",
              "      <td>Arkansas</td>\n",
              "      <td>52.5</td>\n",
              "      <td>81.0</td>\n",
              "      <td>80.9</td>\n",
              "      <td>18.0</td>\n",
              "      <td>12.1</td>\n",
              "    </tr>\n",
              "    <tr>\n",
              "      <th>4</th>\n",
              "      <td>California</td>\n",
              "      <td>94.4</td>\n",
              "      <td>77.5</td>\n",
              "      <td>81.1</td>\n",
              "      <td>12.8</td>\n",
              "      <td>12.6</td>\n",
              "    </tr>\n",
              "  </tbody>\n",
              "</table>\n",
              "</div>"
            ],
            "text/plain": [
              "        state  metro_res  white  hs_grad  poverty  female_house\n",
              "0     Alabama       55.4   71.3     79.9     14.6          14.2\n",
              "1      Alaska       65.6   70.8     90.6      8.3          10.8\n",
              "2     Arizona       88.2   87.7     83.8     13.3          11.1\n",
              "3    Arkansas       52.5   81.0     80.9     18.0          12.1\n",
              "4  California       94.4   77.5     81.1     12.8          12.6"
            ]
          },
          "metadata": {
            "tags": []
          },
          "execution_count": 44
        }
      ]
    },
    {
      "cell_type": "markdown",
      "metadata": {
        "id": "NKAwMsBrFv2d",
        "colab_type": "text"
      },
      "source": [
        "Выполните проверку данных на мультиколлинеарность. Постройте матрицу корреляции. На основе анализа матрицы корреляции определите, какие факторы нужно включить в регрессионную модель.\n",
        "\n",
        "*Подсказка: для построения матрицы корреляции можно использовать функцию `pd.DataFrame.corr`.*"
      ]
    },
    {
      "cell_type": "code",
      "metadata": {
        "id": "vGN157UOF4O9",
        "colab_type": "code",
        "colab": {}
      },
      "source": [
        "corr_matrix = # your code here\n",
        "corr_matrix"
      ],
      "execution_count": 0,
      "outputs": []
    },
    {
      "cell_type": "code",
      "metadata": {
        "colab_type": "code",
        "outputId": "4ede0a99-5703-48ce-e8b2-960187a6a708",
        "id": "zYEzLLX99q5k",
        "colab": {
          "base_uri": "https://localhost:8080/",
          "height": 355
        }
      },
      "source": [
        "plt.figure(figsize=(20, 20))\n",
        "plt.matshow(corr_matrix)\n",
        "plt.xticks(range(corr_matrix.shape[1]), corr_matrix.columns, fontsize=14, rotation=90)\n",
        "plt.yticks(range(corr_matrix.shape[1]), corr_matrix.columns, fontsize=14)\n",
        "cb = plt.colorbar()\n",
        "cb.ax.tick_params(labelsize=14)\n",
        "plt.show()"
      ],
      "execution_count": 0,
      "outputs": [
        {
          "output_type": "display_data",
          "data": {
            "text/plain": [
              "<Figure size 1440x1440 with 0 Axes>"
            ]
          },
          "metadata": {
            "tags": []
          }
        },
        {
          "output_type": "display_data",
          "data": {
            "image/png": "[encoded data removed]",
            "text/plain": [
              "<Figure size 288x288 with 2 Axes>"
            ]
          },
          "metadata": {
            "tags": []
          }
        }
      ]
    },
    {
      "cell_type": "markdown",
      "metadata": {
        "id": "Ds9E3Ae_I84L",
        "colab_type": "text"
      },
      "source": [
        "Вычислите оценки параметров модели при помощи МНК."
      ]
    },
    {
      "cell_type": "code",
      "metadata": {
        "id": "a6RaYuU4JBQZ",
        "colab_type": "code",
        "colab": {}
      },
      "source": [
        "# your code here"
      ],
      "execution_count": 0,
      "outputs": []
    },
    {
      "cell_type": "markdown",
      "metadata": {
        "id": "W6LZb02ANTcf",
        "colab_type": "text"
      },
      "source": [
        "Вычислите [скорректированный коэффициент детерминации](https://ru.wikipedia.org/wiki/%D0%9A%D0%BE%D1%8D%D1%84%D1%84%D0%B8%D1%86%D0%B8%D0%B5%D0%BD%D1%82_%D0%B4%D0%B5%D1%82%D0%B5%D1%80%D0%BC%D0%B8%D0%BD%D0%B0%D1%86%D0%B8%D0%B8#%D0%A1%D0%BA%D0%BE%D1%80%D1%80%D0%B5%D0%BA%D1%82%D0%B8%D1%80%D0%BE%D0%B2%D0%B0%D0%BD%D0%BD%D1%8B%D0%B9_(adjusted)_'%22%60UNIQ--postMath-00000015-QINU%60%22') полученной регрессионной модели.\n",
        "\n",
        "*Подсказка: скорректированный коэффициент детерминации можно вычислить по формуле $R^2_{adj} = 1 - \\frac{SSE}{SST} \\frac{n - 1}{n - k - 1}$.*"
      ]
    },
    {
      "cell_type": "code",
      "metadata": {
        "id": "EnP7s4WlNZAp",
        "colab_type": "code",
        "colab": {}
      },
      "source": [
        "# your code here"
      ],
      "execution_count": 0,
      "outputs": []
    },
    {
      "cell_type": "markdown",
      "metadata": {
        "id": "sGCIEkylK7k1",
        "colab_type": "text"
      },
      "source": [
        "При помощи F-критерия оцените статистическую значимость уравнения регрессии. Используйте значение уровня значимости $\\alpha = 0,05$."
      ]
    },
    {
      "cell_type": "code",
      "metadata": {
        "id": "7Em0cHDVLCj9",
        "colab_type": "code",
        "colab": {}
      },
      "source": [
        "# your code here"
      ],
      "execution_count": 0,
      "outputs": []
    },
    {
      "cell_type": "markdown",
      "metadata": {
        "id": "Jh14Ff9WNwju",
        "colab_type": "text"
      },
      "source": [
        "Удостоверьтесь в правильности проведённых вычислений, проведя повторные рассчёты с помощью бибилиотеки [statsmodels](https://www.statsmodels.org/stable/index.html)."
      ]
    },
    {
      "cell_type": "code",
      "metadata": {
        "id": "xg6h4JX-NysX",
        "colab_type": "code",
        "colab": {}
      },
      "source": [
        "# your code here"
      ],
      "execution_count": 0,
      "outputs": []
    },
    {
      "cell_type": "markdown",
      "metadata": {
        "id": "Q1jcfmjrwq8b",
        "colab_type": "text"
      },
      "source": [
        "На основе анализа значений t-статистики, полученных на предыдущем шаге, определите, коэффициенты при каких факторах статистически значимо отклоняются от нуля."
      ]
    },
    {
      "cell_type": "markdown",
      "metadata": {
        "id": "6MfbzpZfxVPq",
        "colab_type": "text"
      },
      "source": [
        "your answer here"
      ]
    },
    {
      "cell_type": "markdown",
      "metadata": {
        "id": "I2cZx5ZjKgZ0",
        "colab_type": "text"
      },
      "source": [
        "## 3. Полиномиальная регрессия"
      ]
    },
    {
      "cell_type": "markdown",
      "metadata": {
        "id": "Gife5M_bx1mg",
        "colab_type": "text"
      },
      "source": [
        "В третьей части вам нужно построить регрессионную модель, в которой зависимость $y$ от $x$ имеет нелинейный характер. "
      ]
    },
    {
      "cell_type": "code",
      "metadata": {
        "id": "eM3LtNFoy-XL",
        "colab_type": "code",
        "colab": {}
      },
      "source": [
        "df = pd.read_csv('http://edu.std-900.ist.mospolytech.ru/files/nonlinear_data.csv')\n",
        "x, y = df.x.values, df.y.values"
      ],
      "execution_count": 0,
      "outputs": []
    },
    {
      "cell_type": "markdown",
      "metadata": {
        "id": "MUo68klDOXvf",
        "colab_type": "text"
      },
      "source": [
        "Постройте диаграмму рассеяния для загруженных данных."
      ]
    },
    {
      "cell_type": "code",
      "metadata": {
        "id": "3W7Lz-ZDOnLH",
        "colab_type": "code",
        "colab": {}
      },
      "source": [
        "# your code here"
      ],
      "execution_count": 0,
      "outputs": []
    },
    {
      "cell_type": "markdown",
      "metadata": {
        "id": "qINYmXlwOvb5",
        "colab_type": "text"
      },
      "source": [
        "Вычислите оценки параметров регрессионных моделей с помощью МНК для полиномов степеней 1-15. Постройте графики получившихся кривых. Наблюдаются ли на графике сильно выраженные осцилляции (колебания)? Если наблюдаются, то начиная с какой степени полинома?\n",
        "\n",
        "*Подсказка: в библиотеке `sklearn` есть удобный класс [`sklearn.preprocessing.PolynomialFeatures`](https://scikit-learn.org/stable/modules/generated/sklearn.preprocessing.PolynomialFeatures.html), который позволяет легко подготовить данные для построения полиномиальной регрессии.*"
      ]
    },
    {
      "cell_type": "code",
      "metadata": {
        "id": "8XVkKJPiQGes",
        "colab_type": "code",
        "colab": {}
      },
      "source": [
        "# your code here"
      ],
      "execution_count": 0,
      "outputs": []
    },
    {
      "cell_type": "markdown",
      "metadata": {
        "id": "UGNl2oBhPxYu",
        "colab_type": "text"
      },
      "source": [
        "Полином какой степени, по вашему мнению, наилучшим образом описывает данные? Вычислите для него коэффициент детерминации."
      ]
    },
    {
      "cell_type": "code",
      "metadata": {
        "id": "t4Jfi9HFP73v",
        "colab_type": "code",
        "colab": {}
      },
      "source": [
        "# your code here"
      ],
      "execution_count": 0,
      "outputs": []
    },
    {
      "cell_type": "markdown",
      "metadata": {
        "id": "xNaA3qg6KoED",
        "colab_type": "text"
      },
      "source": [
        "## Полезные материалы\n",
        "\n",
        "\n",
        "1.   [Linear Regression in Python](https://realpython.com/linear-regression-in-python/)\n",
        "2.   Фёрстер Э. Методы корреляционного и регрессионного анализа. Руководство для экономистов. / Э. Фёрстер, Б. М. Рёнц – М.: «Финансы и статистика», 1983 г. – 304 с.\n",
        "\n",
        "\n"
      ]
    }
  ]
}